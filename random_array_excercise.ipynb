{
  "nbformat": 4,
  "nbformat_minor": 0,
  "metadata": {
    "colab": {
      "name": "random_array_excercise.ipynb",
      "provenance": [],
      "collapsed_sections": [],
      "authorship_tag": "ABX9TyNNPBGF/zqHX53U8bin5w08",
      "include_colab_link": true
    },
    "kernelspec": {
      "name": "python3",
      "display_name": "Python 3"
    }
  },
  "cells": [
    {
      "cell_type": "markdown",
      "metadata": {
        "id": "view-in-github",
        "colab_type": "text"
      },
      "source": [
        "<a href=\"https://colab.research.google.com/github/PietroSmusee/random-dimension-and-random-values-array/blob/main/random_array_excercise.ipynb\" target=\"_parent\"><img src=\"https://colab.research.google.com/assets/colab-badge.svg\" alt=\"Open In Colab\"/></a>"
      ]
    },
    {
      "cell_type": "markdown",
      "metadata": {
        "id": "k3zfiSF26YaL"
      },
      "source": [
        "# Create a random length array ranging from 1 to 20 of integers ranging from 1 to 20"
      ]
    },
    {
      "cell_type": "markdown",
      "metadata": {
        "id": "YMG--viZ8VGa"
      },
      "source": [
        "# Example \r\n",
        "[2,5,7,12,16,6,19,3,11]\r\n",
        "or\r\n",
        "[4,6,15,2]"
      ]
    },
    {
      "cell_type": "markdown",
      "metadata": {
        "id": "biYgyWiL6XWH"
      },
      "source": [
        "# **Answer**"
      ]
    },
    {
      "cell_type": "code",
      "metadata": {
        "colab": {
          "base_uri": "https://localhost:8080/"
        },
        "id": "JsVx4ca1I3Ym",
        "outputId": "61c56404-a98f-497c-8576-4f30d43946f6"
      },
      "source": [
        "import random\r\n",
        "\r\n",
        "for n in range(1,20):\r\n",
        "\r\n",
        "  array = [n]*random.randint(1,20)\r\n",
        " \r\n",
        "for i in range(len(array)):\r\n",
        " \r\n",
        "  array[i]=random.randint(1,20) \r\n",
        "\r\n",
        "print(array)"
      ],
      "execution_count": 10,
      "outputs": [
        {
          "output_type": "stream",
          "text": [
            "[20, 19, 20, 5, 9, 12, 20, 10, 9, 13, 20, 4, 7]\n"
          ],
          "name": "stdout"
        }
      ]
    },
    {
      "cell_type": "markdown",
      "metadata": {
        "id": "ibRT58SGJPIM"
      },
      "source": [
        "this is an excercise I came up with while trying to execute a code like this, I couldn't find any better or faster way to do so on other platforms such as githb or stackoverflow."
      ]
    }
  ]
}